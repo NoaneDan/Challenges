{
 "cells": [
  {
   "cell_type": "markdown",
   "metadata": {},
   "source": [
    "# Day 0: Mean, Median and Mode\n",
    "\n",
    "https://www.hackerrank.com/challenges/s10-basic-statistics/problem\n",
    "\n",
    "__Objective__: Calculate the mean, median, and mode of a given array X containg N integers."
   ]
  },
  {
   "cell_type": "markdown",
   "metadata": {},
   "source": [
    "Read the number of elements in the array"
   ]
  },
  {
   "cell_type": "code",
   "execution_count": null,
   "metadata": {},
   "outputs": [],
   "source": [
    "n = int(input())"
   ]
  },
  {
   "cell_type": "markdown",
   "metadata": {},
   "source": [
    "Read the array"
   ]
  },
  {
   "cell_type": "code",
   "execution_count": 10,
   "metadata": {},
   "outputs": [
    {
     "name": "stdout",
     "output_type": "stream",
     "text": [
      "1 2 3\n"
     ]
    }
   ],
   "source": [
    "x = input()"
   ]
  },
  {
   "cell_type": "code",
   "execution_count": 11,
   "metadata": {},
   "outputs": [],
   "source": [
    "x = x.split(' ')\n",
    "x = map(lambda e: int(e), x)\n",
    "x = list(x)"
   ]
  },
  {
   "cell_type": "markdown",
   "metadata": {},
   "source": [
    "The __mean__ is the sum of all elements in __x__ divided by length of __x__"
   ]
  },
  {
   "cell_type": "code",
   "execution_count": 7,
   "metadata": {},
   "outputs": [],
   "source": [
    "def mean(x: list):\n",
    "    return sum(x) / len(x)"
   ]
  },
  {
   "cell_type": "markdown",
   "metadata": {},
   "source": [
    "The __median__ is the midpoint value of a data set for which an equal number of samples are less than and greater than the value. "
   ]
  },
  {
   "cell_type": "code",
   "execution_count": 20,
   "metadata": {},
   "outputs": [],
   "source": [
    "def median(x: list):\n",
    "    \n",
    "    x_sorted = sorted(x)\n",
    "    n = len(x)\n",
    "    \n",
    "    if len(x_sorted) % 2 != 0:\n",
    "        return x_sorted[n // 2]\n",
    "    else:\n",
    "        return (x_sorted[n // 2] + x_sorted[n // 2 - 1]) / 2"
   ]
  },
  {
   "cell_type": "markdown",
   "metadata": {},
   "source": [
    "The __mode__ is the element(s) that occur most frequently in a data set."
   ]
  },
  {
   "cell_type": "code",
   "execution_count": 53,
   "metadata": {},
   "outputs": [],
   "source": [
    "def mode(x: list):\n",
    "    \n",
    "    freq = {}\n",
    "    \n",
    "    for e in x:\n",
    "        if e in freq:\n",
    "            freq[e] += 1\n",
    "        else:\n",
    "            freq[e] = 1\n",
    "            \n",
    "    freq = sorted(freq.items(), key=lambda e: -e[1])\n",
    "    \n",
    "    max_freq = freq[0][1]\n",
    "    min_num = freq[0][0]\n",
    "    \n",
    "    for e in freq:\n",
    "        if e[1] < max_freq:\n",
    "            break\n",
    "        elif e[0] < min_num:\n",
    "            min_num = e[0]\n",
    "    \n",
    "    return min_num"
   ]
  },
  {
   "cell_type": "markdown",
   "metadata": {},
   "source": [
    "Print all the statistics for the array __x__"
   ]
  },
  {
   "cell_type": "code",
   "execution_count": 54,
   "metadata": {},
   "outputs": [
    {
     "name": "stdout",
     "output_type": "stream",
     "text": [
      "2.0\n",
      "2\n",
      "1\n"
     ]
    }
   ],
   "source": [
    "print(mean(x))\n",
    "print(median(x))\n",
    "print(mode(x))"
   ]
  },
  {
   "cell_type": "markdown",
   "metadata": {},
   "source": [
    "# Day 0: Weighted Mean\n",
    "\n",
    "https://www.hackerrank.com/challenges/s10-weighted-mean/problem\n",
    "\n",
    "__Objective__: calculate the weighted mean of an array __X__ of __N__ integers, with weights __W__."
   ]
  },
  {
   "cell_type": "markdown",
   "metadata": {},
   "source": [
    "Read the number of elements, the array, and the weights:"
   ]
  },
  {
   "cell_type": "code",
   "execution_count": 55,
   "metadata": {},
   "outputs": [
    {
     "name": "stdout",
     "output_type": "stream",
     "text": [
      "3\n",
      "1 2 3\n",
      "2 1 3\n"
     ]
    }
   ],
   "source": [
    "n = int(input())\n",
    "x = input()\n",
    "w = input()"
   ]
  },
  {
   "cell_type": "markdown",
   "metadata": {},
   "source": [
    "Transform input string to array:"
   ]
  },
  {
   "cell_type": "code",
   "execution_count": 60,
   "metadata": {},
   "outputs": [],
   "source": [
    "def trans(a: list):\n",
    "    \n",
    "    a = a.split(' ')\n",
    "    a = map(lambda x: int(x), a)\n",
    "    a = list(a)\n",
    "    \n",
    "    return a"
   ]
  },
  {
   "cell_type": "code",
   "execution_count": 61,
   "metadata": {},
   "outputs": [],
   "source": [
    "x = trans(x)\n",
    "w = trans(w)"
   ]
  },
  {
   "cell_type": "markdown",
   "metadata": {},
   "source": [
    "__Weighted mean__:\n",
    "Given a discrete set of numbers, __X__, and a corresponding set of weights, __W__, the weighted mean is calculated as follows: \n",
    "\n",
    "__wm = sum(X[i] * W[i]) / sum(W[i]), i = 1:n, where n is the length of X__"
   ]
  },
  {
   "cell_type": "code",
   "execution_count": 62,
   "metadata": {},
   "outputs": [],
   "source": [
    "def weighted_mean(x: list, w: list):\n",
    "    \n",
    "    weighted_sum = 0\n",
    "    sum_of_weights = 0\n",
    "    \n",
    "    for t in zip(x, w):\n",
    "        weighted_sum += t[0] * t[1]\n",
    "        \n",
    "    sum_of_weights = sum(w)\n",
    "    \n",
    "    return weighted_sum / sum_of_weights"
   ]
  },
  {
   "cell_type": "markdown",
   "metadata": {},
   "source": [
    "Print the weighted mean of __X__:"
   ]
  },
  {
   "cell_type": "code",
   "execution_count": 68,
   "metadata": {},
   "outputs": [
    {
     "name": "stdout",
     "output_type": "stream",
     "text": [
      "2.2\n"
     ]
    }
   ],
   "source": [
    "print('%.1f' % weighted_mean(x, w))"
   ]
  },
  {
   "cell_type": "markdown",
   "metadata": {},
   "source": [
    "# Day 1: Qurtiles\n",
    "https://www.hackerrank.com/challenges/s10-quartiles/problem\n",
    "\n",
    "__Objective__: calculate the first, second and third quartile of an array of integers X, with N elements."
   ]
  },
  {
   "cell_type": "markdown",
   "metadata": {},
   "source": [
    "Read the number of elements and the array:"
   ]
  },
  {
   "cell_type": "code",
   "execution_count": 11,
   "metadata": {},
   "outputs": [
    {
     "name": "stdout",
     "output_type": "stream",
     "text": [
      "9\n",
      "3 7 8 5 12 14 21 13 18\n"
     ]
    }
   ],
   "source": [
    "n = int(input())\n",
    "x = input()"
   ]
  },
  {
   "cell_type": "markdown",
   "metadata": {},
   "source": [
    "Transform input string to array:"
   ]
  },
  {
   "cell_type": "code",
   "execution_count": 2,
   "metadata": {},
   "outputs": [],
   "source": [
    "def trans(a: list):\n",
    "    \n",
    "    a = a.split(' ')\n",
    "    a = map(lambda x: int(x), a)\n",
    "    a = list(a)\n",
    "    \n",
    "    return a"
   ]
  },
  {
   "cell_type": "code",
   "execution_count": 13,
   "metadata": {},
   "outputs": [],
   "source": [
    "x = trans(x)"
   ]
  },
  {
   "cell_type": "markdown",
   "metadata": {},
   "source": [
    "__Quartiles__: The quartiles of an ordered data set are the 3 points that split the data set into 4 equal groups. The  quartiles are defined as follows:\n",
    "\n",
    "Q1: The first quartile is the middle number between the smallest number in a data set and its median.  \n",
    "Q2: The second quartile is the median (percentile) of the data set.  \n",
    "Q3: The third quartile is the middle number between a data set's median and its largest number.  "
   ]
  },
  {
   "cell_type": "code",
   "execution_count": 8,
   "metadata": {},
   "outputs": [],
   "source": [
    "def median(x: list):\n",
    "    \n",
    "    x = sorted(x)\n",
    "    n = len(x)\n",
    "    \n",
    "    if len(x) % 2 != 0:\n",
    "        return x[n // 2]\n",
    "    else:\n",
    "        return (x[n // 2] + x[n // 2 - 1]) / 2\n",
    "\n",
    "def quartiles(x: list):\n",
    "    \n",
    "    x = sorted(x)\n",
    "    l = []\n",
    "    u = []\n",
    "    \n",
    "    l.extend(x[:len(x) // 2])\n",
    "    \n",
    "    if len(x) % 2 == 0:\n",
    "        u.extend(x[len(x) // 2:])\n",
    "    else:\n",
    "        u.extend(x[len(x) // 2 + 1:])\n",
    "        \n",
    "    return [median(l), median(x), median(u)]"
   ]
  },
  {
   "cell_type": "markdown",
   "metadata": {},
   "source": [
    "Print the results:"
   ]
  },
  {
   "cell_type": "code",
   "execution_count": 22,
   "metadata": {},
   "outputs": [
    {
     "name": "stdout",
     "output_type": "stream",
     "text": [
      "6\n",
      "12\n",
      "16\n"
     ]
    }
   ],
   "source": [
    "for q in quartiles(x):\n",
    "    print('%.0f' % q)"
   ]
  },
  {
   "cell_type": "markdown",
   "metadata": {},
   "source": [
    "# Day 1: Interquartile Range\n",
    "\n",
    "https://www.hackerrank.com/challenges/s10-interquartile-range/problem\n",
    "\n",
    "__Objective__: Given an array __X__ of __N__ integers, and an array __F__ representing the frequencies of each element in __X__, construct a dataset __S__ where each __Xi__ occurs at frequency __Fi__, and calculate __S__ interquantile's range."
   ]
  },
  {
   "cell_type": "markdown",
   "metadata": {},
   "source": [
    "Read __N__, __X__, and __F__:"
   ]
  },
  {
   "cell_type": "code",
   "execution_count": 1,
   "metadata": {},
   "outputs": [
    {
     "name": "stdout",
     "output_type": "stream",
     "text": [
      "6\n",
      "6 12 8 10 20 16\n",
      "5 4 3 2 1 5\n"
     ]
    }
   ],
   "source": [
    "n = int(input())\n",
    "x = input()\n",
    "f = input()"
   ]
  },
  {
   "cell_type": "markdown",
   "metadata": {},
   "source": [
    "Transform input strings into arrays:"
   ]
  },
  {
   "cell_type": "code",
   "execution_count": 2,
   "metadata": {},
   "outputs": [],
   "source": [
    "def trans(a: list):\n",
    "    \n",
    "    a = a.split(' ')\n",
    "    a = map(lambda x: int(x), a)\n",
    "    a = list(a)\n",
    "    \n",
    "    return a"
   ]
  },
  {
   "cell_type": "code",
   "execution_count": 3,
   "metadata": {},
   "outputs": [],
   "source": [
    "x = trans(x)\n",
    "f = trans(f)"
   ]
  },
  {
   "cell_type": "markdown",
   "metadata": {},
   "source": [
    "Create __S__:"
   ]
  },
  {
   "cell_type": "code",
   "execution_count": 7,
   "metadata": {},
   "outputs": [],
   "source": [
    "def construct(x: list, f: list):\n",
    "    \n",
    "    s = []\n",
    "    \n",
    "    for e in zip(x, f):\n",
    "        s.extend([e[0] for _ in range(e[1])])\n",
    "        \n",
    "    return s"
   ]
  },
  {
   "cell_type": "code",
   "execution_count": 8,
   "metadata": {},
   "outputs": [],
   "source": [
    "s = construct(x, f)"
   ]
  },
  {
   "cell_type": "markdown",
   "metadata": {},
   "source": [
    "Compute the interquartile range:"
   ]
  },
  {
   "cell_type": "code",
   "execution_count": 12,
   "metadata": {},
   "outputs": [],
   "source": [
    "def median(x: list):\n",
    "    \n",
    "    x = sorted(x)\n",
    "    n = len(x)\n",
    "    \n",
    "    if len(x) % 2 != 0:\n",
    "        return x[n // 2]\n",
    "    else:\n",
    "        return (x[n // 2] + x[n // 2 - 1]) / 2\n",
    "\n",
    "def interquartile_range(x: list):\n",
    "    \n",
    "    x = sorted(x)\n",
    "    l = []\n",
    "    u = []\n",
    "    \n",
    "    l.extend(x[:len(x) // 2])\n",
    "    \n",
    "    if len(x) % 2 == 0:\n",
    "        u.extend(x[len(x) // 2:])\n",
    "    else:\n",
    "        u.extend(x[len(x) // 2 + 1:])\n",
    "        \n",
    "    return median(u) - median(l)"
   ]
  },
  {
   "cell_type": "code",
   "execution_count": 13,
   "metadata": {},
   "outputs": [
    {
     "name": "stdout",
     "output_type": "stream",
     "text": [
      "9.0\n"
     ]
    }
   ],
   "source": [
    "print('%.1f' % interquartile_range(s))"
   ]
  },
  {
   "cell_type": "markdown",
   "metadata": {},
   "source": [
    "# Day 1: Standard Deviation\n",
    "\n",
    "https://www.hackerrank.com/challenges/s10-standard-deviation/problem\n",
    "\n",
    "__Objective__: Given an array __X__ of __N__ integers, calculate the standard deviation."
   ]
  },
  {
   "cell_type": "markdown",
   "metadata": {},
   "source": [
    "Read __N__ and __X__:"
   ]
  },
  {
   "cell_type": "code",
   "execution_count": 14,
   "metadata": {},
   "outputs": [
    {
     "name": "stdout",
     "output_type": "stream",
     "text": [
      "5\n",
      "10 40 30 50 20\n"
     ]
    }
   ],
   "source": [
    "n = int(input())\n",
    "x = input()"
   ]
  },
  {
   "cell_type": "markdown",
   "metadata": {},
   "source": [
    "Transform input string to int array:"
   ]
  },
  {
   "cell_type": "code",
   "execution_count": 15,
   "metadata": {},
   "outputs": [],
   "source": [
    "def trans(a: list):\n",
    "    \n",
    "    a = a.split(' ')\n",
    "    a = map(lambda x: int(x), a)\n",
    "    a = list(a)\n",
    "    \n",
    "    return a"
   ]
  },
  {
   "cell_type": "code",
   "execution_count": 16,
   "metadata": {},
   "outputs": [],
   "source": [
    "x = trans(x)"
   ]
  },
  {
   "cell_type": "markdown",
   "metadata": {},
   "source": [
    "Compute the standard deviation.\n",
    "The __standard deviation__ is the average distance to the mean of a dataset:\n",
    "    \n",
    "   __stdev = sqrt(sum(Xi - mean(X)) / N)__"
   ]
  },
  {
   "cell_type": "code",
   "execution_count": 23,
   "metadata": {},
   "outputs": [],
   "source": [
    "from math import sqrt\n",
    "\n",
    "def mean(x: list):\n",
    "    \n",
    "    return sum(x) / len(x)\n",
    "\n",
    "def stdev(x: list):\n",
    "    \n",
    "    u = mean(x)\n",
    "    variance = sum([(x[i] - u) ** 2 for i in range(len(x))]) / len(x)\n",
    "    \n",
    "    return sqrt(variance)"
   ]
  },
  {
   "cell_type": "code",
   "execution_count": 24,
   "metadata": {},
   "outputs": [
    {
     "name": "stdout",
     "output_type": "stream",
     "text": [
      "14.1\n"
     ]
    }
   ],
   "source": [
    "print('%.1f' % stdev(x))"
   ]
  },
  {
   "cell_type": "markdown",
   "metadata": {},
   "source": [
    "# Day 2: Basic Probability\n",
    "\n",
    "https://www.hackerrank.com/challenges/s10-mcq-1/problem\n",
    "\n",
    "__Objective__: In a single toss of 2 fair (evenly-weighted) six-sided dice, find the probability that their sum will be at most 9."
   ]
  },
  {
   "cell_type": "code",
   "execution_count": 25,
   "metadata": {},
   "outputs": [],
   "source": [
    "n = 0\n",
    "dice = [i for i in range(1, 7)]"
   ]
  },
  {
   "cell_type": "code",
   "execution_count": 26,
   "metadata": {},
   "outputs": [],
   "source": [
    "for d1 in dice:\n",
    "    for d2 in dice:\n",
    "        if d1 + d2 <= 9:\n",
    "            n += 1"
   ]
  },
  {
   "cell_type": "code",
   "execution_count": 34,
   "metadata": {},
   "outputs": [
    {
     "name": "stdout",
     "output_type": "stream",
     "text": [
      "30 / 36\n"
     ]
    }
   ],
   "source": [
    "print('{} / {}'.format(n, len(dice) ** 2))"
   ]
  },
  {
   "cell_type": "markdown",
   "metadata": {},
   "source": [
    "# Day 2: More Dice\n",
    "\n",
    "https://www.hackerrank.com/challenges/s10-mcq-2/problem\n",
    "\n",
    "__Objective__: In a single toss of 2 fair (evenly-weighted) six-sided dice, find the probability that the values rolled by each die will be different and the two dice have a sum of 6."
   ]
  },
  {
   "cell_type": "code",
   "execution_count": 1,
   "metadata": {},
   "outputs": [],
   "source": [
    "n = 0\n",
    "dice = [i for i in range(1, 7)]"
   ]
  },
  {
   "cell_type": "code",
   "execution_count": 2,
   "metadata": {},
   "outputs": [],
   "source": [
    "for d1 in dice:\n",
    "    for d2 in dice:\n",
    "        if d1 != d2 and d1 + d2 == 6:\n",
    "            n += 1"
   ]
  },
  {
   "cell_type": "code",
   "execution_count": 4,
   "metadata": {},
   "outputs": [
    {
     "name": "stdout",
     "output_type": "stream",
     "text": [
      "4 / 36\n"
     ]
    }
   ],
   "source": [
    "print('{} / {}'.format(n, len(dice) ** 2))"
   ]
  },
  {
   "cell_type": "code",
   "execution_count": null,
   "metadata": {},
   "outputs": [],
   "source": []
  }
 ],
 "metadata": {
  "kernelspec": {
   "display_name": "Python 3",
   "language": "python",
   "name": "python3"
  },
  "language_info": {
   "codemirror_mode": {
    "name": "ipython",
    "version": 3
   },
   "file_extension": ".py",
   "mimetype": "text/x-python",
   "name": "python",
   "nbconvert_exporter": "python",
   "pygments_lexer": "ipython3",
   "version": "3.6.5"
  }
 },
 "nbformat": 4,
 "nbformat_minor": 2
}
